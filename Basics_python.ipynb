{
  "nbformat": 4,
  "nbformat_minor": 0,
  "metadata": {
    "colab": {
      "name": "Basics_python.ipynb",
      "provenance": [],
      "collapsed_sections": [],
      "include_colab_link": true
    },
    "kernelspec": {
      "name": "python3",
      "display_name": "Python 3"
    }
  },
  "cells": [
    {
      "cell_type": "markdown",
      "metadata": {
        "id": "view-in-github",
        "colab_type": "text"
      },
      "source": [
        "<a href=\"https://colab.research.google.com/github/subashhariharan/machine-learning/blob/main/Basics_python.ipynb\" target=\"_parent\"><img src=\"https://colab.research.google.com/assets/colab-badge.svg\" alt=\"Open In Colab\"/></a>"
      ]
    },
    {
      "cell_type": "markdown",
      "metadata": {
        "id": "mBgNudPIPwvk"
      },
      "source": [
        "# **Hello World in Python!**"
      ]
    },
    {
      "cell_type": "code",
      "metadata": {
        "id": "WBzyGTIcPodV",
        "colab": {
          "base_uri": "https://localhost:8080/"
        },
        "outputId": "9ff9b283-d943-477d-c743-3dbbc55f625b"
      },
      "source": [
        "print(\"Hello World how are you?\")\n",
        "# This a is a comment"
      ],
      "execution_count": null,
      "outputs": [
        {
          "output_type": "stream",
          "text": [
            "Hello World how are you?\n"
          ],
          "name": "stdout"
        }
      ]
    },
    {
      "cell_type": "markdown",
      "metadata": {
        "id": "ElXqPGUsQeW3"
      },
      "source": [
        "# **Datatype**"
      ]
    },
    {
      "cell_type": "code",
      "metadata": {
        "id": "KHr3dSAlQaXk",
        "colab": {
          "base_uri": "https://localhost:8080/"
        },
        "outputId": "e935eeda-f954-4651-ffea-8fd72aaf73fe"
      },
      "source": [
        "a = 12\n",
        "print(a)       \n",
        "print(type(a))"
      ],
      "execution_count": null,
      "outputs": [
        {
          "output_type": "stream",
          "text": [
            "12\n",
            "<class 'int'>\n"
          ],
          "name": "stdout"
        }
      ]
    },
    {
      "cell_type": "code",
      "metadata": {
        "id": "3E-c8ymwQyuR",
        "colab": {
          "base_uri": "https://localhost:8080/"
        },
        "outputId": "08a3ceba-5059-4bcb-f0bf-8aea6ede6bc3"
      },
      "source": [
        "b = 1.7\n",
        "print(b)       \n",
        "print(type(b))"
      ],
      "execution_count": null,
      "outputs": [
        {
          "output_type": "stream",
          "text": [
            "1.7\n",
            "<class 'float'>\n"
          ],
          "name": "stdout"
        }
      ]
    },
    {
      "cell_type": "code",
      "metadata": {
        "id": "lLLgBaYNQ3Bp",
        "colab": {
          "base_uri": "https://localhost:8080/"
        },
        "outputId": "41324d65-bd56-44d7-9372-e5cf988fc98c"
      },
      "source": [
        "c = \"Python\"\n",
        "print(c)       \n",
        "print(type(c))"
      ],
      "execution_count": null,
      "outputs": [
        {
          "output_type": "stream",
          "text": [
            "Python\n",
            "<class 'str'>\n"
          ],
          "name": "stdout"
        }
      ]
    },
    {
      "cell_type": "code",
      "metadata": {
        "id": "c1HVwJj3Q6_c",
        "colab": {
          "base_uri": "https://localhost:8080/"
        },
        "outputId": "a967677d-e34f-4e95-b171-2bb3ecef3feb"
      },
      "source": [
        "d = True\n",
        "print(d)\n",
        "print(type(d))"
      ],
      "execution_count": null,
      "outputs": [
        {
          "output_type": "stream",
          "text": [
            "True\n",
            "<class 'bool'>\n"
          ],
          "name": "stdout"
        }
      ]
    },
    {
      "cell_type": "code",
      "metadata": {
        "id": "pfASQU9UQ-UN",
        "colab": {
          "base_uri": "https://localhost:8080/"
        },
        "outputId": "42f70596-a8f7-4244-97b6-9a686c2a3e1b"
      },
      "source": [
        "a, b, c = 1, 2, 3\n",
        "a, b, c = 1, 3.5, \"hello\"\n",
        "print(type(a))\n",
        "print(type(b)) \n",
        "print(type(c))"
      ],
      "execution_count": null,
      "outputs": [
        {
          "output_type": "stream",
          "text": [
            "<class 'int'>\n",
            "<class 'float'>\n",
            "<class 'str'>\n"
          ],
          "name": "stdout"
        }
      ]
    },
    {
      "cell_type": "markdown",
      "metadata": {
        "id": "r_7fd7J2Rr9f"
      },
      "source": [
        "# **Math Operation**"
      ]
    },
    {
      "cell_type": "code",
      "metadata": {
        "id": "mpIoTifoRxVT",
        "colab": {
          "base_uri": "https://localhost:8080/"
        },
        "outputId": "5e3b91fb-a4a4-43e4-ae97-ccbc03bcb2f2"
      },
      "source": [
        "a = 10\n",
        "print(a + 1)  \n",
        "print(a - 1)  \n",
        "print(a * 2)  \n",
        "print(a / 2)  \n",
        "print(a ** 2)"
      ],
      "execution_count": null,
      "outputs": [
        {
          "output_type": "stream",
          "text": [
            "11\n",
            "9\n",
            "20\n",
            "5.0\n",
            "100\n"
          ],
          "name": "stdout"
        }
      ]
    },
    {
      "cell_type": "code",
      "metadata": {
        "id": "scwoueSfR4fv",
        "colab": {
          "base_uri": "https://localhost:8080/"
        },
        "outputId": "8c74e72c-c59d-45ec-912c-67c25416b956"
      },
      "source": [
        "x = True\n",
        "y = False\n",
        "print(x and y)  \n",
        "print(x or y)   \n",
        "print(not x)    \n",
        "print(x & y)"
      ],
      "execution_count": null,
      "outputs": [
        {
          "output_type": "stream",
          "text": [
            "False\n",
            "True\n",
            "False\n",
            "False\n"
          ],
          "name": "stdout"
        }
      ]
    },
    {
      "cell_type": "markdown",
      "metadata": {
        "id": "cgYdMC57SEoV"
      },
      "source": [
        "# **Conditions**"
      ]
    },
    {
      "cell_type": "code",
      "metadata": {
        "id": "RVRiE8P6SHcO"
      },
      "source": [
        "Ticket_to_Mars = 5"
      ],
      "execution_count": 1,
      "outputs": []
    },
    {
      "cell_type": "code",
      "metadata": {
        "id": "B_j3Bj_dSRIZ",
        "colab": {
          "base_uri": "https://localhost:8080/"
        },
        "outputId": "361e77cb-7335-4a44-f340-d88359328444"
      },
      "source": [
        "if (Ticket_to_Mars == 0):\n",
        "\tprint(\"Sadly No can Go to Mars\")\n",
        "elif (Ticket_to_Mars <= 2):\n",
        "  if (Ticket_to_Mars == 1):\n",
        "    print(\"Only you can got to Mars\")\n",
        "  else:\n",
        "    print (\"You and Your Partnet can go to Mars!\")\n",
        "else:\n",
        "    print(str(Ticket_to_Mars) + \" Members can go to Mars\")"
      ],
      "execution_count": 2,
      "outputs": [
        {
          "output_type": "stream",
          "text": [
            "5 Members can go to Mars\n"
          ],
          "name": "stdout"
        }
      ]
    },
    {
      "cell_type": "markdown",
      "metadata": {
        "id": "zLConAy4Sag4"
      },
      "source": [
        "# **Loops**"
      ]
    },
    {
      "cell_type": "code",
      "metadata": {
        "id": "4CACqcmHSdKf",
        "colab": {
          "base_uri": "https://localhost:8080/"
        },
        "outputId": "dc63fdb5-af98-4189-8fa4-070cafdd6e91"
      },
      "source": [
        "c = 0\n",
        "while (c < 10): \n",
        "    print(c,end='-')\n",
        "    c += 1"
      ],
      "execution_count": 6,
      "outputs": [
        {
          "output_type": "stream",
          "text": [
            "0-1-2-3-4-5-6-7-8-9-"
          ],
          "name": "stdout"
        }
      ]
    },
    {
      "cell_type": "code",
      "metadata": {
        "id": "EWz7Ava5ShEP",
        "colab": {
          "base_uri": "https://localhost:8080/"
        },
        "outputId": "81caaa69-e779-4fc3-9387-25ff4041ab1b"
      },
      "source": [
        "numbers = [1, 2, 4]\n",
        "#for (i=0;i<len(numbers);i++)\n",
        "\n",
        "for x in numbers:\n",
        "    print(x)"
      ],
      "execution_count": 7,
      "outputs": [
        {
          "output_type": "stream",
          "text": [
            "1\n",
            "2\n",
            "4\n"
          ],
          "name": "stdout"
        }
      ]
    },
    {
      "cell_type": "code",
      "metadata": {
        "id": "rSbvVM3KSktI",
        "colab": {
          "base_uri": "https://localhost:8080/"
        },
        "outputId": "0264a2a5-bcc0-4ed4-a2e0-a3799b255f83"
      },
      "source": [
        "x = 5\n",
        "for c in range(x):  # for (i=0,i<5,i++)\n",
        "    print(c)"
      ],
      "execution_count": 8,
      "outputs": [
        {
          "output_type": "stream",
          "text": [
            "0\n",
            "1\n",
            "2\n",
            "3\n",
            "4\n"
          ],
          "name": "stdout"
        }
      ]
    },
    {
      "cell_type": "code",
      "metadata": {
        "id": "7mcD7TCxSn9N",
        "colab": {
          "base_uri": "https://localhost:8080/"
        },
        "outputId": "034fbd10-a93c-41f2-fc9a-596e2eacd908"
      },
      "source": [
        "for c in range (0,10,2):  #for (i=1,i<10,i+2)\n",
        "\tprint (c)"
      ],
      "execution_count": 9,
      "outputs": [
        {
          "output_type": "stream",
          "text": [
            "0\n",
            "2\n",
            "4\n",
            "6\n",
            "8\n"
          ],
          "name": "stdout"
        }
      ]
    },
    {
      "cell_type": "code",
      "metadata": {
        "id": "8de_MxqvSq5h",
        "colab": {
          "base_uri": "https://localhost:8080/"
        },
        "outputId": "7b8b22e8-49e2-4d1b-f126-f8fc9867c048"
      },
      "source": [
        "for c in range (10,0,-2):\n",
        "\tprint (c)"
      ],
      "execution_count": 10,
      "outputs": [
        {
          "output_type": "stream",
          "text": [
            "10\n",
            "8\n",
            "6\n",
            "4\n",
            "2\n"
          ],
          "name": "stdout"
        }
      ]
    },
    {
      "cell_type": "markdown",
      "metadata": {
        "id": "7x9D9GhpT2-h"
      },
      "source": [
        "# **String**"
      ]
    },
    {
      "cell_type": "code",
      "metadata": {
        "id": "rvvtaPr0UGOB",
        "colab": {
          "base_uri": "https://localhost:8080/"
        },
        "outputId": "1f749870-66ea-4d15-be2f-6f548b0728d7"
      },
      "source": [
        "a = \"python\"\n",
        "b = \" is python awesome!\"\n",
        "\n",
        "print(len(a))                        \n",
        "print(len(b)) "
      ],
      "execution_count": 16,
      "outputs": [
        {
          "output_type": "stream",
          "text": [
            "6\n",
            "19\n"
          ],
          "name": "stdout"
        }
      ]
    },
    {
      "cell_type": "code",
      "metadata": {
        "id": "bE9CvWxCUL7l",
        "colab": {
          "base_uri": "https://localhost:8080/"
        },
        "outputId": "aa20ff4f-c9a7-495b-fb46-1939c75f53c4"
      },
      "source": [
        "print(a + b)                         \n",
        "print(a, b)                          "
      ],
      "execution_count": 12,
      "outputs": [
        {
          "output_type": "stream",
          "text": [
            "Python is python awesome!\n",
            "Python  is python awesome!\n"
          ],
          "name": "stdout"
        }
      ]
    },
    {
      "cell_type": "code",
      "metadata": {
        "id": "SqZgtovnUfm8"
      },
      "source": [
        "print(\"this is a {} this is b {}\".format(a, b))          \n",
        "print(\"%s%s\" % (a, b))               "
      ],
      "execution_count": null,
      "outputs": []
    },
    {
      "cell_type": "code",
      "metadata": {
        "id": "1_JAiZveUssF"
      },
      "source": [
        "print(a.upper())                    \n",
        "print(a.lower())  "
      ],
      "execution_count": null,
      "outputs": []
    },
    {
      "cell_type": "code",
      "metadata": {
        "id": "wxr3LchHUx16"
      },
      "source": [
        "print(b.strip())                     \n",
        "print(b.replace(\"awesome\", \"great\"))"
      ],
      "execution_count": null,
      "outputs": []
    },
    {
      "cell_type": "code",
      "metadata": {
        "id": "G_7otd7zT15a",
        "colab": {
          "base_uri": "https://localhost:8080/"
        },
        "outputId": "614c7dc9-c515-4442-ca44-f606d5c37a0f"
      },
      "source": [
        "if a in b:\n",
        "\tprint (\"True\")\n",
        "else:\n",
        "\tprint (\"false\")"
      ],
      "execution_count": 17,
      "outputs": [
        {
          "output_type": "stream",
          "text": [
            "True\n"
          ],
          "name": "stdout"
        }
      ]
    },
    {
      "cell_type": "markdown",
      "metadata": {
        "id": "BuTeInlbVYw5"
      },
      "source": [
        "# **List**"
      ]
    },
    {
      "cell_type": "code",
      "metadata": {
        "id": "_H8A2_BlU-sA",
        "colab": {
          "base_uri": "https://localhost:8080/"
        },
        "outputId": "9849a9c4-0aa2-4f90-def4-1bb4ce1f5d2a"
      },
      "source": [
        "l = [1,2,3,4,5]\n",
        "\n",
        "print(len(l)) "
      ],
      "execution_count": 18,
      "outputs": [
        {
          "output_type": "stream",
          "text": [
            "5\n"
          ],
          "name": "stdout"
        }
      ]
    },
    {
      "cell_type": "code",
      "metadata": {
        "id": "8QJ_EJHgV1XN",
        "colab": {
          "base_uri": "https://localhost:8080/"
        },
        "outputId": "5b7fc1fa-6690-4432-ef72-61b8f59cc206"
      },
      "source": [
        "print(l[0])        \n",
        "print(l[1]) "
      ],
      "execution_count": 19,
      "outputs": [
        {
          "output_type": "stream",
          "text": [
            "1\n",
            "2\n"
          ],
          "name": "stdout"
        }
      ]
    },
    {
      "cell_type": "code",
      "metadata": {
        "id": "9Y3fxTNMVff5",
        "colab": {
          "base_uri": "https://localhost:8080/"
        },
        "outputId": "20b582e8-6754-47db-b633-21c75ce712a1"
      },
      "source": [
        "print(l[len(l)-1]) \n",
        "print(l[-1])  "
      ],
      "execution_count": 20,
      "outputs": [
        {
          "output_type": "stream",
          "text": [
            "5\n",
            "5\n"
          ],
          "name": "stdout"
        }
      ]
    },
    {
      "cell_type": "code",
      "metadata": {
        "id": "k8p_rW55VqeR"
      },
      "source": [
        "l.append(6)       \n",
        "print(l)          \n",
        "item = l.pop()    \n",
        "print(item)       \n",
        "l.append(\"string\")\n",
        "print(l) "
      ],
      "execution_count": null,
      "outputs": []
    },
    {
      "cell_type": "code",
      "metadata": {
        "id": "pexlYo2mV53s"
      },
      "source": [
        "l = [10,20,30,40,50,60]\n",
        "\n",
        "print(l[1:2])     \n",
        "print(l[1:3])     \n",
        "print(l[0:])      \n",
        "print(l[0:-1])    \n",
        "print(l[:])\n",
        "print (l[3:5])  "
      ],
      "execution_count": null,
      "outputs": []
    },
    {
      "cell_type": "code",
      "metadata": {
        "id": "d2Q8nkCQWDht"
      },
      "source": [
        "b = [1,5,7,2,4,9,11,12]\n",
        "b.sort()\n",
        "print(b) "
      ],
      "execution_count": null,
      "outputs": []
    },
    {
      "cell_type": "code",
      "metadata": {
        "id": "Pbh3ybBBWFWe"
      },
      "source": [
        "b.sort(reverse=True)\n",
        "print(b)"
      ],
      "execution_count": null,
      "outputs": []
    },
    {
      "cell_type": "code",
      "metadata": {
        "id": "66fZNCKxWIJe",
        "colab": {
          "base_uri": "https://localhost:8080/"
        },
        "outputId": "31492c1b-85c0-409c-caba-b0d502ef33df"
      },
      "source": [
        "a = [\"dhoni\", \"sachin\", \"warner\", \"abd\"]\n",
        "a.reverse()\n",
        "print(a)"
      ],
      "execution_count": 21,
      "outputs": [
        {
          "output_type": "stream",
          "text": [
            "['abd', 'warner', 'sachin', 'dhoni']\n"
          ],
          "name": "stdout"
        }
      ]
    },
    {
      "cell_type": "code",
      "metadata": {
        "id": "10JG8aZVWJ2g"
      },
      "source": [
        "a = [66, 55, 44, 22, 11, 55, 22] \n",
        "print(a.count(0))"
      ],
      "execution_count": null,
      "outputs": []
    },
    {
      "cell_type": "markdown",
      "metadata": {
        "id": "dgEqvF90Ya2R"
      },
      "source": [
        "# **Tuple**"
      ]
    },
    {
      "cell_type": "code",
      "metadata": {
        "id": "Ik0BKAD0YcxO",
        "colab": {
          "base_uri": "https://localhost:8080/"
        },
        "outputId": "1a23bbef-a409-42cc-cecc-957b39f0468d"
      },
      "source": [
        "t = (\"500\", \"200\", \"12\")\n",
        "\n",
        "print(type(t))\n",
        "\n",
        "print(t[1]) "
      ],
      "execution_count": 25,
      "outputs": [
        {
          "output_type": "stream",
          "text": [
            "<class 'tuple'>\n",
            "200\n"
          ],
          "name": "stdout"
        }
      ]
    },
    {
      "cell_type": "code",
      "metadata": {
        "id": "Skx9XKhPYh9u",
        "colab": {
          "base_uri": "https://localhost:8080/"
        },
        "outputId": "c633a93c-b8f4-4c8a-c907-38b5a8df251a"
      },
      "source": [
        "print(len(t)) \n",
        "print(max(t))\n",
        "print(min(t))"
      ],
      "execution_count": 26,
      "outputs": [
        {
          "output_type": "stream",
          "text": [
            "3\n",
            "500\n",
            "12\n"
          ],
          "name": "stdout"
        }
      ]
    },
    {
      "cell_type": "code",
      "metadata": {
        "id": "lrU0NFW2YoA-",
        "colab": {
          "base_uri": "https://localhost:8080/"
        },
        "outputId": "27cf2959-57c0-4821-d703-4fd0dd1edb4e"
      },
      "source": [
        "l = [400, 800, 1200]\n",
        "print (type(l))\n",
        "l_to_t = tuple(l)\n",
        "print(type(l_to_t))\n"
      ],
      "execution_count": 27,
      "outputs": [
        {
          "output_type": "stream",
          "text": [
            "<class 'list'>\n",
            "<class 'tuple'>\n"
          ],
          "name": "stdout"
        }
      ]
    },
    {
      "cell_type": "markdown",
      "metadata": {
        "id": "Fa9dyO_vZBnI"
      },
      "source": [
        "# **Dictionary**"
      ]
    },
    {
      "cell_type": "code",
      "metadata": {
        "id": "bZFraEweZA9g"
      },
      "source": [
        "d = { \"1\" : \"Captain America\", \n",
        "      \"2\" : \"Ironman\", \n",
        "      \"3\" : \"Thor\"\n",
        "    }"
      ],
      "execution_count": 28,
      "outputs": []
    },
    {
      "cell_type": "code",
      "metadata": {
        "id": "3FY5LHRwZJ9N",
        "colab": {
          "base_uri": "https://localhost:8080/"
        },
        "outputId": "a9f1dceb-0c44-44b9-eeb3-b3ba5739013e"
      },
      "source": [
        "print(type(d))    \n",
        "print(d[\"1\"])     "
      ],
      "execution_count": 29,
      "outputs": [
        {
          "output_type": "stream",
          "text": [
            "<class 'dict'>\n",
            "Captain America\n"
          ],
          "name": "stdout"
        }
      ]
    },
    {
      "cell_type": "code",
      "metadata": {
        "id": "rpk4UHSCZPgf"
      },
      "source": [
        "for key in d:\n",
        "    print(key)  \n",
        "    print(d[key])"
      ],
      "execution_count": null,
      "outputs": []
    },
    {
      "cell_type": "code",
      "metadata": {
        "id": "Z3EbGJdGZTnN"
      },
      "source": [
        "d[\"2\"] = \"Hulk\"\n",
        "for key, value in d.items():\n",
        "    print(key + \" - \" + value)"
      ],
      "execution_count": null,
      "outputs": []
    },
    {
      "cell_type": "code",
      "metadata": {
        "id": "wgPDloQMZYQ3"
      },
      "source": [
        "d[\"4\"] = \"Thanos\"\n",
        "d[\"2\"] = \"KIT\"\n",
        "\n",
        "print (d.items())\n",
        "d.pop(\"4\")\n",
        "\n",
        "del d[\"2\"]"
      ],
      "execution_count": null,
      "outputs": []
    },
    {
      "cell_type": "markdown",
      "metadata": {
        "id": "wAz497akagUz"
      },
      "source": [
        "# **Exception Handling**"
      ]
    },
    {
      "cell_type": "code",
      "metadata": {
        "id": "LC_jYmA8ap6f"
      },
      "source": [
        "y =10\n",
        "try:\n",
        "    print (z)\n",
        "    x = y/0\n",
        "except NameError :\n",
        "    print (\"value error\")\n",
        "except Exception as e:\n",
        "    print(\"Something is wrong!\")\n",
        "    print (e)"
      ],
      "execution_count": null,
      "outputs": []
    },
    {
      "cell_type": "code",
      "metadata": {
        "id": "i0eokz3masIT"
      },
      "source": [
        "try:\n",
        "    print(s)\n",
        "except: \n",
        "    print(\"Something is wrong!\")\n",
        "finally:\n",
        "    print(\"Finally always execute after try-except.\")"
      ],
      "execution_count": null,
      "outputs": []
    },
    {
      "cell_type": "markdown",
      "metadata": {
        "id": "pQtyOHQ3a2p5"
      },
      "source": [
        "# **Function**"
      ]
    },
    {
      "cell_type": "code",
      "metadata": {
        "id": "PwuAmvyAa5RN"
      },
      "source": [
        "def squared(x):\n",
        "    y = x*x\n",
        "    print (y)\n",
        "    return y"
      ],
      "execution_count": 31,
      "outputs": []
    },
    {
      "cell_type": "code",
      "metadata": {
        "id": "Fq7If5fHa6qg",
        "colab": {
          "base_uri": "https://localhost:8080/"
        },
        "outputId": "0e7de171-4695-44d4-b685-0cd06a318118"
      },
      "source": [
        "res = squared(4)\n",
        "print (\"result is\", res )"
      ],
      "execution_count": 32,
      "outputs": [
        {
          "output_type": "stream",
          "text": [
            "16\n",
            "result is 16\n"
          ],
          "name": "stdout"
        }
      ]
    }
  ]
}